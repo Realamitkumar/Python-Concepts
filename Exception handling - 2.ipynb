{
 "cells": [
  {
   "cell_type": "code",
   "execution_count": 11,
   "id": "cd4df779",
   "metadata": {},
   "outputs": [],
   "source": [
    "def askint():\n",
    "    try:\n",
    "        v = int(input(\"Enter Integer= \\n\"))\n",
    "    except Exception as e:\n",
    "        print(e)\n",
    "    finally:\n",
    "        print(\"this finally block execute this for sure\")\n",
    "        try:\n",
    "            print(v)\n",
    "        except Exception as e:\n",
    "            print(e)"
   ]
  },
  {
   "cell_type": "code",
   "execution_count": 12,
   "id": "6a70adb3",
   "metadata": {},
   "outputs": [
    {
     "name": "stdout",
     "output_type": "stream",
     "text": [
      "Enter Integer= \n",
      "jjh\n",
      "invalid literal for int() with base 10: 'jjh'\n",
      "this finally block execute this for sure\n",
      "local variable 'v' referenced before assignment\n"
     ]
    }
   ],
   "source": [
    "askint()"
   ]
  },
  {
   "cell_type": "code",
   "execution_count": 22,
   "id": "e61e71ae",
   "metadata": {},
   "outputs": [],
   "source": [
    "#important example\n",
    "def askint():\n",
    "    while True:\n",
    "        #keep on asking for integers\n",
    "        try:\n",
    "            v = int(input(\"Enter Integer= \\n\"))\n",
    "        except Exception as e:\n",
    "            print(e)\n",
    "            continue\n",
    "        else:\n",
    "            print(\"yes i am able to get an integer\")\n",
    "            break\n",
    "        finally:\n",
    "            print(\"this finally block execute this for sure\")"
   ]
  },
  {
   "cell_type": "code",
   "execution_count": 21,
   "id": "aec21bf5",
   "metadata": {},
   "outputs": [
    {
     "name": "stdout",
     "output_type": "stream",
     "text": [
      "Enter Integer= \n",
      "jhj\n",
      "invalid literal for int() with base 10: 'jhj'\n",
      "this finally block execute this for sure\n",
      "Enter Integer= \n",
      "hkhk\n",
      "invalid literal for int() with base 10: 'hkhk'\n",
      "this finally block execute this for sure\n",
      "Enter Integer= \n",
      "8\n",
      "yes i am able to get an integer\n",
      "this finally block execute this for sure\n"
     ]
    }
   ],
   "source": [
    "askint()"
   ]
  },
  {
   "cell_type": "code",
   "execution_count": 39,
   "id": "900beeef",
   "metadata": {},
   "outputs": [
    {
     "name": "stdout",
     "output_type": "stream",
     "text": [
      "not writable\n"
     ]
    }
   ],
   "source": [
    "try:\n",
    "    f = open(\"xyz.txt\")\n",
    "    f.write(\"my name is amit\")\n",
    "except FileExistsError as e:\n",
    "    print(e)\n",
    "except ValueError as e:\n",
    "    print(e)    \n",
    "except IOError:\n",
    "    print(\"this is an IOError\")\n",
    "except OSError:\n",
    "    print(\"this is a OSError\")\n",
    "except Exception as e:\n",
    "    print(\"this is the superclass of all the error\")"
   ]
  },
  {
   "cell_type": "code",
   "execution_count": 35,
   "id": "57388bb0",
   "metadata": {
    "scrolled": true
   },
   "outputs": [
    {
     "ename": "UnsupportedOperation",
     "evalue": "not writable",
     "output_type": "error",
     "traceback": [
      "\u001b[1;31m---------------------------------------------------------------------------\u001b[0m",
      "\u001b[1;31mUnsupportedOperation\u001b[0m                      Traceback (most recent call last)",
      "\u001b[1;32m<ipython-input-35-6e62220a4d07>\u001b[0m in \u001b[0;36m<module>\u001b[1;34m\u001b[0m\n\u001b[0;32m      1\u001b[0m \u001b[0mf\u001b[0m \u001b[1;33m=\u001b[0m \u001b[0mopen\u001b[0m\u001b[1;33m(\u001b[0m\u001b[1;34m\"xyz.txt\"\u001b[0m\u001b[1;33m,\u001b[0m\u001b[1;34m\"r\"\u001b[0m\u001b[1;33m)\u001b[0m\u001b[1;33m\u001b[0m\u001b[1;33m\u001b[0m\u001b[0m\n\u001b[1;32m----> 2\u001b[1;33m \u001b[0mf\u001b[0m\u001b[1;33m.\u001b[0m\u001b[0mwrite\u001b[0m\u001b[1;33m(\u001b[0m\u001b[1;34m\"my name is amit\"\u001b[0m\u001b[1;33m)\u001b[0m\u001b[1;33m\u001b[0m\u001b[1;33m\u001b[0m\u001b[0m\n\u001b[0m",
      "\u001b[1;31mUnsupportedOperation\u001b[0m: not writable"
     ]
    }
   ],
   "source": [
    "f = open(\"xyz.txt\",\"r\")\n",
    "f.write(\"my name is amit\")"
   ]
  },
  {
   "cell_type": "code",
   "execution_count": 42,
   "id": "94dc15c6",
   "metadata": {
    "scrolled": true
   },
   "outputs": [
    {
     "name": "stdout",
     "output_type": "stream",
     "text": [
      "there is an error with this code [Errno 2] No such file or directory: 'amit.txt'\n"
     ]
    }
   ],
   "source": [
    "#try to create multi-exceptions at one instance\n",
    "\n",
    "try :\n",
    "    f = open(\"amit.txt\")\n",
    "    f.write(\"shradha\")\n",
    "except (OSError,FileExistsError,FileNotFoundError,ValueError,Exception)as e:\n",
    "    print(\"there is an error with this code\",e)"
   ]
  },
  {
   "cell_type": "markdown",
   "id": "c34ebe72",
   "metadata": {},
   "source": [
    "**Custom Exception**\n",
    "- **Based on a condition if you want to give your**\n",
    "- **``own_exception``**\n",
    "- **with the help of ``raise`` keyword**"
   ]
  },
  {
   "cell_type": "code",
   "execution_count": 51,
   "id": "f76dd5ad",
   "metadata": {},
   "outputs": [
    {
     "name": "stdout",
     "output_type": "stream",
     "text": [
      "insert integer\n",
      "2\n",
      "this is not an integer\n"
     ]
    }
   ],
   "source": [
    "try :\n",
    "    v = int(input(\"insert integer\\n\"))\n",
    "    f = 56/v\n",
    "    if v == 2 :\n",
    "        raise ValueError(\"this is not an integer\")\n",
    "except ValueError as e:\n",
    "    print(e)\n",
    "except ZeroDivisionError as e:\n",
    "    print(e)"
   ]
  },
  {
   "cell_type": "code",
   "execution_count": null,
   "id": "746beeab",
   "metadata": {},
   "outputs": [],
   "source": []
  }
 ],
 "metadata": {
  "kernelspec": {
   "display_name": "Python 3",
   "language": "python",
   "name": "python3"
  },
  "language_info": {
   "codemirror_mode": {
    "name": "ipython",
    "version": 3
   },
   "file_extension": ".py",
   "mimetype": "text/x-python",
   "name": "python",
   "nbconvert_exporter": "python",
   "pygments_lexer": "ipython3",
   "version": "3.8.8"
  }
 },
 "nbformat": 4,
 "nbformat_minor": 5
}
