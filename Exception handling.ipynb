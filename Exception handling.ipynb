{
 "cells": [
  {
   "cell_type": "markdown",
   "id": "9a5d3adf",
   "metadata": {},
   "source": [
    "# Two types of errors:\n",
    "- **1:Compile Time Error**\n",
    "- **Compile Time Error also called a ``syntatical error``**\n",
    "- **like: above error i.e., ``print(\"hey)``**\n",
    "- **means syntax wise there is a problem in your code**"
   ]
  },
  {
   "cell_type": "code",
   "execution_count": 1,
   "id": "5d16a397",
   "metadata": {},
   "outputs": [
    {
     "ename": "SyntaxError",
     "evalue": "EOL while scanning string literal (<ipython-input-1-6b89991b8170>, line 1)",
     "output_type": "error",
     "traceback": [
      "\u001b[1;36m  File \u001b[1;32m\"<ipython-input-1-6b89991b8170>\"\u001b[1;36m, line \u001b[1;32m1\u001b[0m\n\u001b[1;33m    print(\"hey)\u001b[0m\n\u001b[1;37m               ^\u001b[0m\n\u001b[1;31mSyntaxError\u001b[0m\u001b[1;31m:\u001b[0m EOL while scanning string literal\n"
     ]
    }
   ],
   "source": [
    "#eg:1\n",
    "print(\"hey)"
   ]
  },
  {
   "cell_type": "code",
   "execution_count": 8,
   "id": "419dede6",
   "metadata": {},
   "outputs": [
    {
     "ename": "TypeError",
     "evalue": "int() argument must be a string, a bytes-like object or a number, not 'method'",
     "output_type": "error",
     "traceback": [
      "\u001b[1;31m---------------------------------------------------------------------------\u001b[0m",
      "\u001b[1;31mTypeError\u001b[0m                                 Traceback (most recent call last)",
      "\u001b[1;32m<ipython-input-8-9f6291691887>\u001b[0m in \u001b[0;36m<module>\u001b[1;34m\u001b[0m\n\u001b[0;32m      1\u001b[0m \u001b[1;31m#eg:2\u001b[0m\u001b[1;33m\u001b[0m\u001b[1;33m\u001b[0m\u001b[1;33m\u001b[0m\u001b[0m\n\u001b[1;32m----> 2\u001b[1;33m \u001b[0ma\u001b[0m\u001b[1;33m=\u001b[0m\u001b[0mint\u001b[0m\u001b[1;33m(\u001b[0m\u001b[0minput\u001b[0m\u001b[1;33m)\u001b[0m\u001b[1;33m\u001b[0m\u001b[1;33m\u001b[0m\u001b[0m\n\u001b[0m",
      "\u001b[1;31mTypeError\u001b[0m: int() argument must be a string, a bytes-like object or a number, not 'method'"
     ]
    }
   ],
   "source": [
    "#eg:2\n",
    "a=int(input)"
   ]
  },
  {
   "cell_type": "markdown",
   "id": "05ac35e1",
   "metadata": {},
   "source": [
    "- **2:runtime error**\n",
    "- **runtime_error means syntax wise there is no**\n",
    "- **problem in your code**\n",
    " - **A program with a runtime error is one that passed the** \n",
    "- **interpreter’s syntax checks, and started to execute.**\n",
    "- **but at execution level they show error that is basically your**\n",
    "- **``runtime error``**"
   ]
  },
  {
   "cell_type": "code",
   "execution_count": 11,
   "id": "845b8f81",
   "metadata": {},
   "outputs": [
    {
     "ename": "UnsupportedOperation",
     "evalue": "not writable",
     "output_type": "error",
     "traceback": [
      "\u001b[1;31m---------------------------------------------------------------------------\u001b[0m",
      "\u001b[1;31mUnsupportedOperation\u001b[0m                      Traceback (most recent call last)",
      "\u001b[1;32m<ipython-input-11-bc9bff81b5ed>\u001b[0m in \u001b[0;36m<module>\u001b[1;34m\u001b[0m\n\u001b[0;32m      1\u001b[0m \u001b[1;31m#eg:\u001b[0m\u001b[1;33m\u001b[0m\u001b[1;33m\u001b[0m\u001b[1;33m\u001b[0m\u001b[0m\n\u001b[0;32m      2\u001b[0m \u001b[0mf\u001b[0m \u001b[1;33m=\u001b[0m \u001b[0mopen\u001b[0m\u001b[1;33m(\u001b[0m\u001b[1;34m\"xyz.txt\"\u001b[0m\u001b[1;33m,\u001b[0m\u001b[1;34m\"r\"\u001b[0m\u001b[1;33m)\u001b[0m\u001b[1;33m\u001b[0m\u001b[1;33m\u001b[0m\u001b[0m\n\u001b[1;32m----> 3\u001b[1;33m \u001b[0mf\u001b[0m\u001b[1;33m.\u001b[0m\u001b[0mwrite\u001b[0m\u001b[1;33m(\u001b[0m\u001b[1;34m\"my name is amit\"\u001b[0m\u001b[1;33m)\u001b[0m\u001b[1;33m\u001b[0m\u001b[1;33m\u001b[0m\u001b[0m\n\u001b[0m\u001b[0;32m      4\u001b[0m \u001b[0mprint\u001b[0m\u001b[1;33m(\u001b[0m\u001b[1;34m\"print this if above isvalid\"\u001b[0m\u001b[1;33m)\u001b[0m\u001b[1;33m\u001b[0m\u001b[1;33m\u001b[0m\u001b[0m\n\u001b[0;32m      5\u001b[0m \u001b[1;36m5\u001b[0m\u001b[1;33m+\u001b[0m\u001b[1;36m6\u001b[0m\u001b[1;33m\u001b[0m\u001b[1;33m\u001b[0m\u001b[0m\n",
      "\u001b[1;31mUnsupportedOperation\u001b[0m: not writable"
     ]
    }
   ],
   "source": [
    "#eg:\n",
    "f = open(\"xyz.txt\",\"r\")\n",
    "f.write(\"my name is amit\")\n",
    "print(\"print this if above isvalid\")\n",
    "5+6"
   ]
  },
  {
   "cell_type": "markdown",
   "id": "509c3ce3",
   "metadata": {},
   "source": [
    "- **above you can see i unable to run the rest of the other**\n",
    "- **code due to the error coming in between**\n",
    "\n",
    "\n",
    "- **and this is big-issue**\n",
    "- **suppose, you are working with some 10K lines of code**\n",
    "- **and suddenly one code break in between**\n",
    "- **then rest code that i want to execute**\n",
    "- **will not be getting executed.**"
   ]
  },
  {
   "cell_type": "markdown",
   "id": "97e02ae6",
   "metadata": {},
   "source": [
    "- **then, here comes ``Exception Handling``**\n",
    "- **with respect to production level code this is very very important**"
   ]
  },
  {
   "cell_type": "code",
   "execution_count": 14,
   "id": "1ad19684",
   "metadata": {},
   "outputs": [
    {
     "ename": "SyntaxError",
     "evalue": "unexpected EOF while parsing (<ipython-input-14-a7cc4cb1838c>, line 3)",
     "output_type": "error",
     "traceback": [
      "\u001b[1;36m  File \u001b[1;32m\"<ipython-input-14-a7cc4cb1838c>\"\u001b[1;36m, line \u001b[1;32m3\u001b[0m\n\u001b[1;33m    f.write(\"dddd\")\u001b[0m\n\u001b[1;37m                   ^\u001b[0m\n\u001b[1;31mSyntaxError\u001b[0m\u001b[1;31m:\u001b[0m unexpected EOF while parsing\n"
     ]
    }
   ],
   "source": [
    "try :\n",
    "    f = open(\"xyz.txt\",'r')\n",
    "    f.write(\"dddd\")"
   ]
  },
  {
   "cell_type": "code",
   "execution_count": 18,
   "id": "745a49dc",
   "metadata": {},
   "outputs": [
    {
     "name": "stdout",
     "output_type": "stream",
     "text": [
      "my code has failed\n"
     ]
    }
   ],
   "source": [
    "try :\n",
    "    f = open(\"xyz.txt\",'r')\n",
    "    f.write(\"dddd\")\n",
    "    print(\"my code working fine\")\n",
    "except :\n",
    "    print(\"my code has failed\")"
   ]
  },
  {
   "cell_type": "markdown",
   "id": "690d99d0",
   "metadata": {},
   "source": [
    "# **Note**:\n",
    "**``try-except``block only handles ``runtime-error``not``compile time error``**"
   ]
  },
  {
   "cell_type": "code",
   "execution_count": 4,
   "id": "c91f4daf",
   "metadata": {},
   "outputs": [
    {
     "name": "stdout",
     "output_type": "stream",
     "text": [
      "0\n",
      "this is an issue with code\n",
      "this is the line at the end\n"
     ]
    }
   ],
   "source": [
    "try:\n",
    "    a = int(input())\n",
    "    b = 7/a\n",
    "    print(b)\n",
    "except:\n",
    "    print(\"this is an issue with code\")\n",
    "print(\"this is the line at the end\")    "
   ]
  },
  {
   "cell_type": "code",
   "execution_count": 6,
   "id": "9b37d616",
   "metadata": {
    "scrolled": true
   },
   "outputs": [
    {
     "name": "stdout",
     "output_type": "stream",
     "text": [
      "0\n",
      "division by zero\n",
      "this is an issue with code\n"
     ]
    }
   ],
   "source": [
    "#try to call custom system message \n",
    "try:\n",
    "    a = int(input())\n",
    "    b = 7/a\n",
    "    print(b)\n",
    "except Exception as y:\n",
    "    print(y)\n",
    "    print(\"this is an issue with code\")    "
   ]
  },
  {
   "cell_type": "markdown",
   "id": "103c09af",
   "metadata": {},
   "source": [
    "**try-except-else block**"
   ]
  },
  {
   "cell_type": "code",
   "execution_count": 8,
   "id": "5bd501d5",
   "metadata": {},
   "outputs": [
    {
     "name": "stdout",
     "output_type": "stream",
     "text": [
      "8\n",
      "this code works fine\n",
      "it has executed a try block and working fine\n"
     ]
    }
   ],
   "source": [
    "try:\n",
    "    a = int(input())\n",
    "    b = 9/a\n",
    "    print(\"this code works fine\")\n",
    "except:\n",
    "    print(\"something went wrong\")\n",
    "else:\n",
    "    print(\"it has executed a try block and working fine\")"
   ]
  },
  {
   "cell_type": "code",
   "execution_count": 10,
   "id": "f55f80be",
   "metadata": {},
   "outputs": [
    {
     "name": "stdout",
     "output_type": "stream",
     "text": [
      "0\n",
      "something went wrong\n"
     ]
    }
   ],
   "source": [
    "try:\n",
    "    a = int(input())\n",
    "    b = 9/a\n",
    "    print(\"this code works fine\")\n",
    "except:\n",
    "    print(\"something went wrong\")\n",
    "else:\n",
    "    print(\"it has executed a try block and working fine\")"
   ]
  },
  {
   "cell_type": "markdown",
   "id": "f69b24ae",
   "metadata": {},
   "source": [
    "**try-except-else-finally block**\n",
    "\n",
    "- **finally:when you don't care whether code will give error or not**\n",
    "- **if you want to run then you can use ``finally`` block**"
   ]
  },
  {
   "cell_type": "code",
   "execution_count": 12,
   "id": "2896c3e7",
   "metadata": {},
   "outputs": [
    {
     "name": "stdout",
     "output_type": "stream",
     "text": [
      "0\n",
      "something went wrong\n",
      "this block should execute itself no matter what\n"
     ]
    }
   ],
   "source": [
    "try:\n",
    "    a = int(input())\n",
    "    b = 9/a\n",
    "    print(\"this code works fine\")\n",
    "except:\n",
    "    print(\"something went wrong\")\n",
    "else:\n",
    "    print(\"it has executed a try block and working fine\")\n",
    "finally:\n",
    "    print(\"this block should execute itself no matter what\")"
   ]
  },
  {
   "cell_type": "code",
   "execution_count": null,
   "id": "ef120ccb",
   "metadata": {},
   "outputs": [],
   "source": []
  }
 ],
 "metadata": {
  "kernelspec": {
   "display_name": "Python 3",
   "language": "python",
   "name": "python3"
  },
  "language_info": {
   "codemirror_mode": {
    "name": "ipython",
    "version": 3
   },
   "file_extension": ".py",
   "mimetype": "text/x-python",
   "name": "python",
   "nbconvert_exporter": "python",
   "pygments_lexer": "ipython3",
   "version": "3.8.8"
  }
 },
 "nbformat": 4,
 "nbformat_minor": 5
}
